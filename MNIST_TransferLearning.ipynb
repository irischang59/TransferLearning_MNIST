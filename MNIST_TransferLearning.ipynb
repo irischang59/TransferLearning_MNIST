{
 "cells": [
  {
   "cell_type": "code",
   "execution_count": 1,
   "metadata": {},
   "outputs": [],
   "source": [
    "from __future__ import print_function\n",
    "import numpy as np\n",
    "import datetime"
   ]
  },
  {
   "cell_type": "code",
   "execution_count": 2,
   "metadata": {},
   "outputs": [],
   "source": [
    "np.random.seed(1337)  # for reproducibility"
   ]
  },
  {
   "cell_type": "code",
   "execution_count": 3,
   "metadata": {},
   "outputs": [
    {
     "name": "stderr",
     "output_type": "stream",
     "text": [
      "/Users/iris/anaconda2/envs/py36/lib/python3.6/site-packages/h5py/__init__.py:36: FutureWarning: Conversion of the second argument of issubdtype from `float` to `np.floating` is deprecated. In future, it will be treated as `np.float64 == np.dtype(float).type`.\n",
      "  from ._conv import register_converters as _register_converters\n",
      "Using TensorFlow backend.\n"
     ]
    }
   ],
   "source": [
    "from keras.datasets import mnist\n",
    "from keras.models import Sequential\n",
    "from keras.layers import Dense, Dropout, Activation, Flatten\n",
    "from keras.layers import Convolution2D, MaxPooling2D\n",
    "from keras.utils import np_utils\n",
    "from keras import backend as K\n",
    "import tensorflow as tf  ## this is a quick fix added to to the code\n",
    "import matplotlib.pyplot as plt"
   ]
  },
  {
   "cell_type": "code",
   "execution_count": 4,
   "metadata": {
    "collapsed": true
   },
   "outputs": [],
   "source": [
    "now = datetime.datetime.now"
   ]
  },
  {
   "cell_type": "code",
   "execution_count": 5,
   "metadata": {},
   "outputs": [
    {
     "name": "stdout",
     "output_type": "stream",
     "text": [
      "2018-09-16 10:44:51.398646\n"
     ]
    }
   ],
   "source": [
    "print(now())"
   ]
  },
  {
   "cell_type": "code",
   "execution_count": 6,
   "metadata": {
    "collapsed": true
   },
   "outputs": [],
   "source": [
    "batch_size = 32  # can be changed \n",
    "nb_classes = 5  # 5,6,7,8,9\n",
    "nb_epoch = 50  # how many times to run through the full set of examples\n",
    "\n",
    "# input image dimensions\n",
    "img_rows, img_cols = 28, 28  # pixles\n",
    "\n",
    "# number of convolutional filters to use\n",
    "nb_filters = 32  # capacity to learn 32 features\n",
    "# size of pooling area for max pooling\n",
    "pool_size = 2.\n",
    "# convolution kernel size\n",
    "kernel_size = 3"
   ]
  },
  {
   "cell_type": "code",
   "execution_count": 7,
   "metadata": {},
   "outputs": [
    {
     "name": "stdout",
     "output_type": "stream",
     "text": [
      "tf\n"
     ]
    }
   ],
   "source": [
    "print(K.image_dim_ordering())"
   ]
  },
  {
   "cell_type": "code",
   "execution_count": 8,
   "metadata": {
    "collapsed": true
   },
   "outputs": [],
   "source": [
    "if K.image_dim_ordering() == 'th':\n",
    "    input_shape = (1, img_rows, img_cols)\n",
    "else:\n",
    "    input_shape = (img_rows, img_cols, 1)"
   ]
  },
  {
   "cell_type": "code",
   "execution_count": 9,
   "metadata": {
    "collapsed": true
   },
   "outputs": [],
   "source": [
    "def train_model(model, train, test, nb_classes, nb_epoch=nb_epoch):\n",
    "    global hist\n",
    "    X_train = train[0].reshape((train[0].shape[0],) + input_shape)\n",
    "    X_test = test[0].reshape((test[0].shape[0],) + input_shape)\n",
    "    X_train = X_train.astype('float32')\n",
    "    X_test = X_test.astype('float32')\n",
    "    X_train /= 255 #  X_train =  X_train / 255\n",
    "    X_test /= 255\n",
    "    print('X_train shape:', X_train.shape)\n",
    "    print(X_train.shape[0], 'train samples')\n",
    "    print(X_test.shape[0], 'test samples')\n",
    "\n",
    "    # convert class vectors to binary class matrices\n",
    "    Y_train = np_utils.to_categorical(train[1], nb_classes)#exa 7 = [0,0,1,0,0]\n",
    "    Y_test = np_utils.to_categorical(test[1], nb_classes)\n",
    "\n",
    "    model.compile(loss='categorical_crossentropy',\n",
    "                  optimizer='adadelta',\n",
    "                  metrics=['accuracy'])\n",
    "                  \n",
    "    t = now()\n",
    "    hist = model.fit(X_train, Y_train,\n",
    "              batch_size=batch_size, nb_epoch=nb_epoch,verbose=1, validation_data=(X_test, Y_test))\n",
    "    print('Training time: %s' % (now() - t))\n",
    "    score = model.evaluate(X_test, Y_test, verbose=0)\n",
    "    #s0, s1 = score[0],score[1] \n",
    "    print('Test score:', score[0])\n",
    "    print('Test accuracy:', score[1])"
   ]
  },
  {
   "cell_type": "code",
   "execution_count": 10,
   "metadata": {
    "collapsed": true
   },
   "outputs": [],
   "source": [
    "(X_train, y_train), (X_test, y_test) = mnist.load_data()"
   ]
  },
  {
   "cell_type": "code",
   "execution_count": 11,
   "metadata": {},
   "outputs": [
    {
     "data": {
      "text/plain": [
       "((10000, 28, 28), (60000, 28, 28))"
      ]
     },
     "execution_count": 11,
     "metadata": {},
     "output_type": "execute_result"
    }
   ],
   "source": [
    "X_test.shape, X_train.shape"
   ]
  },
  {
   "cell_type": "code",
   "execution_count": 12,
   "metadata": {
    "collapsed": true
   },
   "outputs": [],
   "source": [
    "X_train_lt5  = X_train[y_train < 5]\n",
    "y_train_lt5  = y_train[y_train < 5]\n",
    "X_test_lt5   = X_test[y_test < 5]\n",
    "y_test_lt5   = y_test[y_test < 5]\n",
    "\n",
    "X_train_gte5 = X_train[y_train >= 5]\n",
    "y_train_gte5 = y_train[y_train >= 5] - 5  # make classes start at 0 for ##indexing\n",
    "X_test_gte5  = X_test[y_test >= 5]         # np_utils.to_categorical\n",
    "y_test_gte5  = y_test[y_test >= 5] - 5"
   ]
  },
  {
   "cell_type": "code",
   "execution_count": 13,
   "metadata": {
    "collapsed": true
   },
   "outputs": [],
   "source": [
    "nex = 64\n",
    "X_train_5 = X_train[y_train == 5]\n",
    "X_train_5 = X_train_5[:nex]\n",
    "X_train_6 = X_train[y_train == 6]\n",
    "X_train_6 = X_train_6[:nex]\n",
    "X_train_7 = X_train[y_train == 7]\n",
    "X_train_7 = X_train_7[:nex]\n",
    "X_train_8 = X_train[y_train == 8]\n",
    "X_train_8 = X_train_8[:nex]\n",
    "X_train_9 = X_train[y_train == 9]\n",
    "X_train_9 = X_train_9[:nex]\n",
    "X_train_gte5_n50 = np.concatenate((X_train_5, X_train_6, X_train_7, X_train_8, X_train_9))"
   ]
  },
  {
   "cell_type": "code",
   "execution_count": 14,
   "metadata": {
    "collapsed": true
   },
   "outputs": [],
   "source": [
    "ind = np.arange(0, X_train_gte5_n50.shape[0])\n",
    "np.random.shuffle(ind)\n",
    "X_train_gte5_n50 = X_train_gte5_n50[ind]\n",
    "y_train_gte5_n50 = np.tile([0, 1, 2, 3, 4], (nex, 1))\n",
    "y_train_gte5_n50 = y_train_gte5_n50.flatten('F')\n",
    "y_train_gte5_n50 = y_train_gte5_n50[ind]"
   ]
  },
  {
   "cell_type": "code",
   "execution_count": 15,
   "metadata": {},
   "outputs": [
    {
     "name": "stderr",
     "output_type": "stream",
     "text": [
      "/Users/iris/anaconda2/envs/py36/lib/python3.6/site-packages/ipykernel_launcher.py:4: UserWarning: Update your `Conv2D` call to the Keras 2 API: `Conv2D(32, (3, 3), input_shape=(28, 28, 1..., padding=\"valid\")`\n",
      "  after removing the cwd from sys.path.\n",
      "/Users/iris/anaconda2/envs/py36/lib/python3.6/site-packages/ipykernel_launcher.py:6: UserWarning: Update your `Conv2D` call to the Keras 2 API: `Conv2D(32, (3, 3))`\n",
      "  \n"
     ]
    }
   ],
   "source": [
    "feature_layers = [\n",
    "    Convolution2D(nb_filters, kernel_size, kernel_size,\n",
    "                  border_mode='valid',\n",
    "                  input_shape=input_shape),\n",
    "    Activation('relu'),\n",
    "    Convolution2D(nb_filters, kernel_size, kernel_size),\n",
    "    Activation('relu'),\n",
    "    MaxPooling2D(pool_size=(pool_size, pool_size)),\n",
    "    Dropout(0.25),\n",
    "    Flatten(),\n",
    "]\n",
    "classification_layers = [\n",
    "    Dense(128),\n",
    "    Activation('relu'),\n",
    "    Dropout(0.5),\n",
    "    Dense(nb_classes),\n",
    "    Activation('softmax')\n",
    "]"
   ]
  },
  {
   "cell_type": "code",
   "execution_count": 16,
   "metadata": {},
   "outputs": [
    {
     "data": {
      "text/plain": [
       "<keras.layers.core.Activation at 0xb2d0a9860>"
      ]
     },
     "execution_count": 16,
     "metadata": {},
     "output_type": "execute_result"
    }
   ],
   "source": [
    "feature_layers[1]"
   ]
  },
  {
   "cell_type": "code",
   "execution_count": 17,
   "metadata": {},
   "outputs": [
    {
     "name": "stderr",
     "output_type": "stream",
     "text": [
      "/Users/iris/anaconda2/envs/py36/lib/python3.6/site-packages/ipykernel_launcher.py:9: UserWarning: Update your `Dense` call to the Keras 2 API: `Dense(activation=\"relu\", units=128)`\n",
      "  if __name__ == '__main__':\n",
      "/Users/iris/anaconda2/envs/py36/lib/python3.6/site-packages/ipykernel_launcher.py:11: UserWarning: Update your `Dense` call to the Keras 2 API: `Dense(activation=\"softmax\", units=5)`\n",
      "  # This is added back by InteractiveShellApp.init_path()\n"
     ]
    }
   ],
   "source": [
    "model = Sequential()\n",
    "model.add(Convolution2D (filters = 32,kernel_size =(3,3),input_shape = (28,28,1),activation='relu'))\n",
    "model.add(MaxPooling2D(pool_size = (2,2)))\n",
    "model.add(Convolution2D (filters = 32,kernel_size =(3,3),activation='relu'))\n",
    "model.add(MaxPooling2D(pool_size = (2,2)))\n",
    "model.add(Dropout(0.25))\n",
    "model.add(Flatten())\n",
    "\n",
    "model.add(Dense(output_dim = 128 , activation=\"relu\"))\n",
    "model.add(Dropout(0.5))\n",
    "model.add(Dense(output_dim = nb_classes , activation=\"softmax\"))\n",
    "#model.compile(optimizer='adam',loss='binary_crossentropy',metrics=['accuracy']) # b/c we have a binary output we use loss = 'binary_crossentropy'"
   ]
  },
  {
   "cell_type": "code",
   "execution_count": 18,
   "metadata": {},
   "outputs": [
    {
     "name": "stdout",
     "output_type": "stream",
     "text": [
      "X_train shape: (30596, 28, 28, 1)\n",
      "30596 train samples\n",
      "5139 test samples\n"
     ]
    },
    {
     "name": "stderr",
     "output_type": "stream",
     "text": [
      "/Users/iris/anaconda2/envs/py36/lib/python3.6/site-packages/keras/models.py:981: UserWarning: The `nb_epoch` argument in `fit` has been renamed `epochs`.\n",
      "  warnings.warn('The `nb_epoch` argument in `fit` '\n"
     ]
    },
    {
     "name": "stdout",
     "output_type": "stream",
     "text": [
      "Train on 30596 samples, validate on 5139 samples\n",
      "Epoch 1/50\n",
      "30596/30596 [==============================] - 20s 649us/step - loss: 0.1220 - acc: 0.9614 - val_loss: 0.0181 - val_acc: 0.9949\n",
      "Epoch 2/50\n",
      "30596/30596 [==============================] - 19s 606us/step - loss: 0.0449 - acc: 0.9865 - val_loss: 0.0123 - val_acc: 0.9967\n",
      "Epoch 3/50\n",
      "30596/30596 [==============================] - 18s 605us/step - loss: 0.0341 - acc: 0.9893 - val_loss: 0.0098 - val_acc: 0.9977\n",
      "Epoch 4/50\n",
      "30596/30596 [==============================] - 19s 611us/step - loss: 0.0280 - acc: 0.9916 - val_loss: 0.0085 - val_acc: 0.9975\n",
      "Epoch 5/50\n",
      "30596/30596 [==============================] - 19s 618us/step - loss: 0.0244 - acc: 0.9924 - val_loss: 0.0066 - val_acc: 0.9979\n",
      "Epoch 6/50\n",
      "30596/30596 [==============================] - 19s 624us/step - loss: 0.0210 - acc: 0.9933 - val_loss: 0.0066 - val_acc: 0.9975\n",
      "Epoch 7/50\n",
      "30596/30596 [==============================] - 19s 623us/step - loss: 0.0211 - acc: 0.9937 - val_loss: 0.0047 - val_acc: 0.9984\n",
      "Epoch 8/50\n",
      "30596/30596 [==============================] - 20s 638us/step - loss: 0.0177 - acc: 0.9947 - val_loss: 0.0064 - val_acc: 0.9975\n",
      "Epoch 9/50\n",
      "30596/30596 [==============================] - 18s 577us/step - loss: 0.0166 - acc: 0.9952 - val_loss: 0.0056 - val_acc: 0.9979\n",
      "Epoch 10/50\n",
      "30596/30596 [==============================] - 18s 593us/step - loss: 0.0156 - acc: 0.9952 - val_loss: 0.0049 - val_acc: 0.9986\n",
      "Epoch 11/50\n",
      "30596/30596 [==============================] - 18s 572us/step - loss: 0.0151 - acc: 0.9956 - val_loss: 0.0054 - val_acc: 0.9982\n",
      "Epoch 12/50\n",
      "30596/30596 [==============================] - 18s 581us/step - loss: 0.0129 - acc: 0.9964 - val_loss: 0.0071 - val_acc: 0.9975\n",
      "Epoch 13/50\n",
      "30596/30596 [==============================] - 18s 574us/step - loss: 0.0116 - acc: 0.9963 - val_loss: 0.0044 - val_acc: 0.9984\n",
      "Epoch 14/50\n",
      "30596/30596 [==============================] - 18s 579us/step - loss: 0.0117 - acc: 0.9963 - val_loss: 0.0047 - val_acc: 0.9984\n",
      "Epoch 15/50\n",
      "30596/30596 [==============================] - 17s 569us/step - loss: 0.0110 - acc: 0.9969 - val_loss: 0.0036 - val_acc: 0.9984\n",
      "Epoch 16/50\n",
      "30596/30596 [==============================] - 18s 584us/step - loss: 0.0099 - acc: 0.9966 - val_loss: 0.0031 - val_acc: 0.9986\n",
      "Epoch 17/50\n",
      "30596/30596 [==============================] - 18s 574us/step - loss: 0.0100 - acc: 0.9971 - val_loss: 0.0036 - val_acc: 0.9988\n",
      "Epoch 18/50\n",
      "30596/30596 [==============================] - 18s 592us/step - loss: 0.0097 - acc: 0.9971 - val_loss: 0.0036 - val_acc: 0.9988\n",
      "Epoch 19/50\n",
      "30596/30596 [==============================] - 18s 591us/step - loss: 0.0085 - acc: 0.9974 - val_loss: 0.0035 - val_acc: 0.9988\n",
      "Epoch 20/50\n",
      "30596/30596 [==============================] - 18s 581us/step - loss: 0.0077 - acc: 0.9975 - val_loss: 0.0030 - val_acc: 0.9990\n",
      "Epoch 21/50\n",
      "30596/30596 [==============================] - 18s 594us/step - loss: 0.0086 - acc: 0.9974 - val_loss: 0.0024 - val_acc: 0.9992\n",
      "Epoch 22/50\n",
      "30596/30596 [==============================] - 18s 585us/step - loss: 0.0077 - acc: 0.9975 - val_loss: 0.0027 - val_acc: 0.9992\n",
      "Epoch 23/50\n",
      "30596/30596 [==============================] - 18s 596us/step - loss: 0.0072 - acc: 0.9978 - val_loss: 0.0034 - val_acc: 0.9990\n",
      "Epoch 24/50\n",
      "30596/30596 [==============================] - 18s 586us/step - loss: 0.0079 - acc: 0.9976 - val_loss: 0.0027 - val_acc: 0.9986\n",
      "Epoch 25/50\n",
      "30596/30596 [==============================] - 18s 585us/step - loss: 0.0066 - acc: 0.9975 - val_loss: 0.0072 - val_acc: 0.9979\n",
      "Epoch 26/50\n",
      "30596/30596 [==============================] - 18s 602us/step - loss: 0.0074 - acc: 0.9979 - val_loss: 0.0027 - val_acc: 0.9986\n",
      "Epoch 27/50\n",
      "30596/30596 [==============================] - 17s 559us/step - loss: 0.0057 - acc: 0.9981 - val_loss: 0.0045 - val_acc: 0.9986\n",
      "Epoch 28/50\n",
      "30596/30596 [==============================] - 18s 598us/step - loss: 0.0047 - acc: 0.9981 - val_loss: 0.0031 - val_acc: 0.9990\n",
      "Epoch 29/50\n",
      "30596/30596 [==============================] - 18s 588us/step - loss: 0.0052 - acc: 0.9982 - val_loss: 0.0031 - val_acc: 0.9988\n",
      "Epoch 30/50\n",
      "30596/30596 [==============================] - 18s 587us/step - loss: 0.0059 - acc: 0.9981 - val_loss: 0.0032 - val_acc: 0.9984\n",
      "Epoch 31/50\n",
      "30596/30596 [==============================] - 18s 595us/step - loss: 0.0051 - acc: 0.9984 - val_loss: 0.0026 - val_acc: 0.9990\n",
      "Epoch 32/50\n",
      "30596/30596 [==============================] - 17s 568us/step - loss: 0.0052 - acc: 0.9986 - val_loss: 0.0029 - val_acc: 0.9992\n",
      "Epoch 33/50\n",
      "30596/30596 [==============================] - 18s 584us/step - loss: 0.0046 - acc: 0.9986 - val_loss: 0.0028 - val_acc: 0.9990\n",
      "Epoch 34/50\n",
      "30596/30596 [==============================] - 18s 575us/step - loss: 0.0047 - acc: 0.9986 - val_loss: 0.0031 - val_acc: 0.9992\n",
      "Epoch 35/50\n",
      "30596/30596 [==============================] - 18s 596us/step - loss: 0.0044 - acc: 0.9985 - val_loss: 0.0030 - val_acc: 0.9992\n",
      "Epoch 36/50\n",
      "30596/30596 [==============================] - 15s 493us/step - loss: 0.0037 - acc: 0.9988 - val_loss: 0.0024 - val_acc: 0.9990\n",
      "Epoch 37/50\n",
      "30596/30596 [==============================] - 15s 493us/step - loss: 0.0053 - acc: 0.9985 - val_loss: 0.0022 - val_acc: 0.9992\n",
      "Epoch 38/50\n",
      "30596/30596 [==============================] - 15s 493us/step - loss: 0.0046 - acc: 0.9984 - val_loss: 0.0020 - val_acc: 0.9992\n",
      "Epoch 39/50\n",
      "30596/30596 [==============================] - 15s 493us/step - loss: 0.0039 - acc: 0.9987 - val_loss: 0.0040 - val_acc: 0.9981\n",
      "Epoch 40/50\n",
      "30596/30596 [==============================] - 15s 498us/step - loss: 0.0043 - acc: 0.9985 - val_loss: 0.0022 - val_acc: 0.9992\n",
      "Epoch 41/50\n",
      "30596/30596 [==============================] - 15s 490us/step - loss: 0.0042 - acc: 0.9986 - val_loss: 0.0025 - val_acc: 0.9988\n",
      "Epoch 42/50\n",
      "30596/30596 [==============================] - 15s 493us/step - loss: 0.0045 - acc: 0.9987 - val_loss: 0.0027 - val_acc: 0.9992\n",
      "Epoch 43/50\n",
      "30596/30596 [==============================] - 15s 489us/step - loss: 0.0050 - acc: 0.9988 - val_loss: 0.0026 - val_acc: 0.9992\n",
      "Epoch 44/50\n",
      "30596/30596 [==============================] - 15s 493us/step - loss: 0.0036 - acc: 0.9991 - val_loss: 0.0029 - val_acc: 0.9990\n",
      "Epoch 45/50\n",
      "30596/30596 [==============================] - 15s 491us/step - loss: 0.0039 - acc: 0.9990 - val_loss: 0.0027 - val_acc: 0.9990\n",
      "Epoch 46/50\n",
      "30596/30596 [==============================] - 15s 490us/step - loss: 0.0045 - acc: 0.9987 - val_loss: 0.0021 - val_acc: 0.9992\n",
      "Epoch 47/50\n",
      "30596/30596 [==============================] - 15s 501us/step - loss: 0.0025 - acc: 0.9992 - val_loss: 0.0023 - val_acc: 0.9992\n",
      "Epoch 48/50\n",
      "30596/30596 [==============================] - 15s 493us/step - loss: 0.0037 - acc: 0.9989 - val_loss: 0.0038 - val_acc: 0.9988\n",
      "Epoch 49/50\n",
      "30596/30596 [==============================] - 15s 493us/step - loss: 0.0041 - acc: 0.9988 - val_loss: 0.0028 - val_acc: 0.9990\n",
      "Epoch 50/50\n",
      "30596/30596 [==============================] - 15s 495us/step - loss: 0.0036 - acc: 0.9989 - val_loss: 0.0033 - val_acc: 0.9988\n",
      "Training time: 0:14:21.446058\n",
      "Test score: 0.003312081934045782\n",
      "Test accuracy: 0.9988324576765908\n"
     ]
    }
   ],
   "source": [
    "train_model(model, (X_train_lt5, y_train_lt5), (X_test_lt5, y_test_lt5), nb_classes, nb_epoch=nb_epoch)"
   ]
  },
  {
   "cell_type": "code",
   "execution_count": 19,
   "metadata": {
    "collapsed": true
   },
   "outputs": [],
   "source": [
    "import json\n",
    "d = hist.history\n",
    "json.dump(d, open(\"text_0_4_B32.txt\",'w'))"
   ]
  },
  {
   "cell_type": "code",
   "execution_count": 20,
   "metadata": {
    "collapsed": true
   },
   "outputs": [],
   "source": [
    "filename = \"weights_training_0_4_B32.hdf5\"\n",
    "model.save_weights(filename,overwrite=True)"
   ]
  },
  {
   "cell_type": "code",
   "execution_count": 21,
   "metadata": {},
   "outputs": [
    {
     "name": "stdout",
     "output_type": "stream",
     "text": [
      "X_train shape: (320, 28, 28, 1)\n",
      "320 train samples\n",
      "4861 test samples\n"
     ]
    },
    {
     "name": "stderr",
     "output_type": "stream",
     "text": [
      "/Users/iris/anaconda2/envs/py36/lib/python3.6/site-packages/keras/models.py:981: UserWarning: The `nb_epoch` argument in `fit` has been renamed `epochs`.\n",
      "  warnings.warn('The `nb_epoch` argument in `fit` '\n"
     ]
    },
    {
     "name": "stdout",
     "output_type": "stream",
     "text": [
      "Train on 320 samples, validate on 4861 samples\n",
      "Epoch 1/50\n",
      "320/320 [==============================] - 1s 4ms/step - loss: 4.5767 - acc: 0.3844 - val_loss: 1.6556 - val_acc: 0.4758\n",
      "Epoch 2/50\n",
      "320/320 [==============================] - 1s 3ms/step - loss: 1.3491 - acc: 0.5406 - val_loss: 0.9460 - val_acc: 0.6799\n",
      "Epoch 3/50\n",
      "320/320 [==============================] - 1s 3ms/step - loss: 0.9345 - acc: 0.7281 - val_loss: 0.7048 - val_acc: 0.7665\n",
      "Epoch 4/50\n",
      "320/320 [==============================] - 1s 3ms/step - loss: 0.7242 - acc: 0.7750 - val_loss: 0.5888 - val_acc: 0.8050\n",
      "Epoch 5/50\n",
      "320/320 [==============================] - 1s 3ms/step - loss: 0.5865 - acc: 0.8313 - val_loss: 0.4917 - val_acc: 0.8420\n",
      "Epoch 6/50\n",
      "320/320 [==============================] - 1s 3ms/step - loss: 0.4334 - acc: 0.8406 - val_loss: 0.4284 - val_acc: 0.8636\n",
      "Epoch 7/50\n",
      "320/320 [==============================] - 1s 3ms/step - loss: 0.4402 - acc: 0.8750 - val_loss: 0.3901 - val_acc: 0.8725\n",
      "Epoch 8/50\n",
      "320/320 [==============================] - 1s 3ms/step - loss: 0.3911 - acc: 0.8844 - val_loss: 0.3661 - val_acc: 0.8780\n",
      "Epoch 9/50\n",
      "320/320 [==============================] - 1s 3ms/step - loss: 0.3385 - acc: 0.8906 - val_loss: 0.3351 - val_acc: 0.8856\n",
      "Epoch 10/50\n",
      "320/320 [==============================] - 1s 3ms/step - loss: 0.3147 - acc: 0.9031 - val_loss: 0.3071 - val_acc: 0.9000\n",
      "Epoch 11/50\n",
      "320/320 [==============================] - 1s 3ms/step - loss: 0.2460 - acc: 0.9313 - val_loss: 0.3032 - val_acc: 0.8947\n",
      "Epoch 12/50\n",
      "320/320 [==============================] - 1s 3ms/step - loss: 0.2425 - acc: 0.9313 - val_loss: 0.2901 - val_acc: 0.8990\n",
      "Epoch 13/50\n",
      "320/320 [==============================] - 1s 3ms/step - loss: 0.2201 - acc: 0.9125 - val_loss: 0.2789 - val_acc: 0.9052\n",
      "Epoch 14/50\n",
      "320/320 [==============================] - 1s 3ms/step - loss: 0.2287 - acc: 0.9250 - val_loss: 0.2697 - val_acc: 0.9122\n",
      "Epoch 15/50\n",
      "320/320 [==============================] - 1s 3ms/step - loss: 0.2010 - acc: 0.9313 - val_loss: 0.2643 - val_acc: 0.9130\n",
      "Epoch 16/50\n",
      "320/320 [==============================] - 1s 3ms/step - loss: 0.1967 - acc: 0.9344 - val_loss: 0.2524 - val_acc: 0.9132\n",
      "Epoch 17/50\n",
      "320/320 [==============================] - 1s 3ms/step - loss: 0.1533 - acc: 0.9500 - val_loss: 0.2682 - val_acc: 0.9134\n",
      "Epoch 18/50\n",
      "320/320 [==============================] - 1s 3ms/step - loss: 0.1273 - acc: 0.9719 - val_loss: 0.2533 - val_acc: 0.9138\n",
      "Epoch 19/50\n",
      "320/320 [==============================] - 1s 3ms/step - loss: 0.1184 - acc: 0.9625 - val_loss: 0.2500 - val_acc: 0.9150\n",
      "Epoch 20/50\n",
      "320/320 [==============================] - 1s 3ms/step - loss: 0.1985 - acc: 0.9375 - val_loss: 0.2421 - val_acc: 0.9189\n",
      "Epoch 21/50\n",
      "320/320 [==============================] - 1s 3ms/step - loss: 0.1434 - acc: 0.9437 - val_loss: 0.2335 - val_acc: 0.9224\n",
      "Epoch 22/50\n",
      "320/320 [==============================] - 1s 3ms/step - loss: 0.1155 - acc: 0.9625 - val_loss: 0.2256 - val_acc: 0.9253\n",
      "Epoch 23/50\n",
      "320/320 [==============================] - 1s 3ms/step - loss: 0.1006 - acc: 0.9750 - val_loss: 0.2293 - val_acc: 0.9247\n",
      "Epoch 24/50\n",
      "320/320 [==============================] - 1s 3ms/step - loss: 0.1154 - acc: 0.9656 - val_loss: 0.2167 - val_acc: 0.9282\n",
      "Epoch 25/50\n",
      "320/320 [==============================] - 1s 3ms/step - loss: 0.0865 - acc: 0.9781 - val_loss: 0.2154 - val_acc: 0.9276\n",
      "Epoch 26/50\n",
      "320/320 [==============================] - 1s 3ms/step - loss: 0.0999 - acc: 0.9656 - val_loss: 0.2125 - val_acc: 0.9294\n",
      "Epoch 27/50\n",
      "320/320 [==============================] - 1s 3ms/step - loss: 0.0663 - acc: 0.9781 - val_loss: 0.2203 - val_acc: 0.9280\n",
      "Epoch 28/50\n",
      "320/320 [==============================] - 1s 3ms/step - loss: 0.0704 - acc: 0.9719 - val_loss: 0.2229 - val_acc: 0.9282\n",
      "Epoch 29/50\n",
      "320/320 [==============================] - 1s 3ms/step - loss: 0.0980 - acc: 0.9812 - val_loss: 0.2068 - val_acc: 0.9327\n",
      "Epoch 30/50\n",
      "320/320 [==============================] - 1s 3ms/step - loss: 0.0665 - acc: 0.9719 - val_loss: 0.2177 - val_acc: 0.9303\n",
      "Epoch 31/50\n",
      "320/320 [==============================] - 1s 3ms/step - loss: 0.0534 - acc: 0.9812 - val_loss: 0.2117 - val_acc: 0.9350\n",
      "Epoch 32/50\n",
      "320/320 [==============================] - 1s 3ms/step - loss: 0.0884 - acc: 0.9719 - val_loss: 0.2084 - val_acc: 0.9346\n",
      "Epoch 33/50\n",
      "320/320 [==============================] - 1s 3ms/step - loss: 0.0465 - acc: 0.9812 - val_loss: 0.2264 - val_acc: 0.9296\n",
      "Epoch 34/50\n",
      "320/320 [==============================] - 1s 3ms/step - loss: 0.0595 - acc: 0.9750 - val_loss: 0.2199 - val_acc: 0.9307\n",
      "Epoch 35/50\n",
      "320/320 [==============================] - 1s 3ms/step - loss: 0.0408 - acc: 0.9844 - val_loss: 0.2279 - val_acc: 0.9305\n",
      "Epoch 36/50\n",
      "320/320 [==============================] - 1s 3ms/step - loss: 0.0593 - acc: 0.9750 - val_loss: 0.2272 - val_acc: 0.9309\n",
      "Epoch 37/50\n",
      "320/320 [==============================] - 1s 3ms/step - loss: 0.0481 - acc: 0.9844 - val_loss: 0.2289 - val_acc: 0.9315\n",
      "Epoch 38/50\n",
      "320/320 [==============================] - 1s 3ms/step - loss: 0.0470 - acc: 0.9844 - val_loss: 0.2150 - val_acc: 0.9350\n",
      "Epoch 39/50\n",
      "320/320 [==============================] - 1s 3ms/step - loss: 0.0370 - acc: 0.9875 - val_loss: 0.2214 - val_acc: 0.9333\n",
      "Epoch 40/50\n",
      "320/320 [==============================] - 1s 3ms/step - loss: 0.0419 - acc: 0.9875 - val_loss: 0.2058 - val_acc: 0.9393\n",
      "Epoch 41/50\n",
      "320/320 [==============================] - 1s 3ms/step - loss: 0.0337 - acc: 0.9844 - val_loss: 0.2150 - val_acc: 0.9356\n",
      "Epoch 42/50\n",
      "320/320 [==============================] - 1s 3ms/step - loss: 0.0256 - acc: 0.9938 - val_loss: 0.2172 - val_acc: 0.9352\n",
      "Epoch 43/50\n",
      "320/320 [==============================] - 1s 3ms/step - loss: 0.0305 - acc: 0.9906 - val_loss: 0.2295 - val_acc: 0.9333\n",
      "Epoch 44/50\n",
      "320/320 [==============================] - 1s 3ms/step - loss: 0.0345 - acc: 0.9906 - val_loss: 0.2129 - val_acc: 0.9362\n",
      "Epoch 45/50\n",
      "320/320 [==============================] - 1s 3ms/step - loss: 0.0520 - acc: 0.9781 - val_loss: 0.2058 - val_acc: 0.9370\n",
      "Epoch 46/50\n",
      "320/320 [==============================] - 1s 3ms/step - loss: 0.0399 - acc: 0.9875 - val_loss: 0.1984 - val_acc: 0.9412\n",
      "Epoch 47/50\n",
      "320/320 [==============================] - 1s 3ms/step - loss: 0.0240 - acc: 0.9938 - val_loss: 0.1948 - val_acc: 0.9410\n",
      "Epoch 48/50\n",
      "320/320 [==============================] - 1s 3ms/step - loss: 0.0320 - acc: 0.9875 - val_loss: 0.2278 - val_acc: 0.9373\n",
      "Epoch 49/50\n",
      "320/320 [==============================] - 1s 3ms/step - loss: 0.0302 - acc: 0.9875 - val_loss: 0.2194 - val_acc: 0.9373\n",
      "Epoch 50/50\n",
      "320/320 [==============================] - 1s 3ms/step - loss: 0.0155 - acc: 1.0000 - val_loss: 0.2083 - val_acc: 0.9403\n",
      "Training time: 0:00:47.822823\n",
      "Test score: 0.20831411010479392\n",
      "Test accuracy: 0.9403414935198519\n"
     ]
    }
   ],
   "source": [
    "fname = \"weights_training_0_4_B32.hdf5\"\n",
    "model.load_weights(fname)\n",
    "\n",
    "train_model(model,(X_train_gte5_n50, y_train_gte5_n50),(X_test_gte5, y_test_gte5), nb_classes, nb_epoch=nb_epoch)"
   ]
  },
  {
   "cell_type": "code",
   "execution_count": 22,
   "metadata": {
    "collapsed": true
   },
   "outputs": [],
   "source": [
    "import json\n",
    "d = hist.history\n",
    "json.dump(d, open(\"text_5_9_A32.txt\",'w'))"
   ]
  },
  {
   "cell_type": "code",
   "execution_count": 23,
   "metadata": {},
   "outputs": [
    {
     "name": "stdout",
     "output_type": "stream",
     "text": [
      "True\n",
      "True\n",
      "True\n",
      "True\n",
      "True\n",
      "True\n",
      "True\n",
      "X_train shape: (320, 28, 28, 1)\n",
      "320 train samples\n",
      "4861 test samples\n"
     ]
    },
    {
     "name": "stderr",
     "output_type": "stream",
     "text": [
      "/Users/iris/anaconda2/envs/py36/lib/python3.6/site-packages/keras/models.py:981: UserWarning: The `nb_epoch` argument in `fit` has been renamed `epochs`.\n",
      "  warnings.warn('The `nb_epoch` argument in `fit` '\n"
     ]
    },
    {
     "name": "stdout",
     "output_type": "stream",
     "text": [
      "Train on 320 samples, validate on 4861 samples\n",
      "Epoch 1/50\n",
      "320/320 [==============================] - 1s 4ms/step - loss: 0.0282 - acc: 0.9938 - val_loss: 0.2151 - val_acc: 0.9414\n",
      "Epoch 2/50\n",
      "320/320 [==============================] - 1s 3ms/step - loss: 0.0256 - acc: 0.9938 - val_loss: 0.2235 - val_acc: 0.9385\n",
      "Epoch 3/50\n",
      "320/320 [==============================] - 1s 4ms/step - loss: 0.0215 - acc: 0.9938 - val_loss: 0.2278 - val_acc: 0.9410\n",
      "Epoch 4/50\n",
      "320/320 [==============================] - 1s 3ms/step - loss: 0.0440 - acc: 0.9844 - val_loss: 0.2218 - val_acc: 0.9414\n",
      "Epoch 5/50\n",
      "320/320 [==============================] - 1s 3ms/step - loss: 0.0208 - acc: 0.9906 - val_loss: 0.2171 - val_acc: 0.9399\n",
      "Epoch 6/50\n",
      "320/320 [==============================] - 1s 3ms/step - loss: 0.0315 - acc: 0.9844 - val_loss: 0.2349 - val_acc: 0.9370\n",
      "Epoch 7/50\n",
      "320/320 [==============================] - 1s 3ms/step - loss: 0.0233 - acc: 0.9969 - val_loss: 0.2113 - val_acc: 0.9430\n",
      "Epoch 8/50\n",
      "320/320 [==============================] - 1s 3ms/step - loss: 0.0222 - acc: 0.9938 - val_loss: 0.2022 - val_acc: 0.9455\n",
      "Epoch 9/50\n",
      "320/320 [==============================] - 1s 3ms/step - loss: 0.0170 - acc: 0.9906 - val_loss: 0.1983 - val_acc: 0.9459\n",
      "Epoch 10/50\n",
      "320/320 [==============================] - 1s 3ms/step - loss: 0.0497 - acc: 0.9812 - val_loss: 0.2218 - val_acc: 0.9412\n",
      "Epoch 11/50\n",
      "320/320 [==============================] - 1s 3ms/step - loss: 0.0208 - acc: 0.9938 - val_loss: 0.1981 - val_acc: 0.9453\n",
      "Epoch 12/50\n",
      "320/320 [==============================] - 1s 3ms/step - loss: 0.0403 - acc: 0.9875 - val_loss: 0.2084 - val_acc: 0.9428\n",
      "Epoch 13/50\n",
      "320/320 [==============================] - 1s 3ms/step - loss: 0.0159 - acc: 0.9969 - val_loss: 0.1979 - val_acc: 0.9465\n",
      "Epoch 14/50\n",
      "320/320 [==============================] - 1s 3ms/step - loss: 0.0115 - acc: 0.9969 - val_loss: 0.2116 - val_acc: 0.9434\n",
      "Epoch 15/50\n",
      "320/320 [==============================] - 1s 3ms/step - loss: 0.0081 - acc: 1.0000 - val_loss: 0.2062 - val_acc: 0.9449\n",
      "Epoch 16/50\n",
      "320/320 [==============================] - 1s 3ms/step - loss: 0.0168 - acc: 0.9969 - val_loss: 0.2347 - val_acc: 0.9426\n",
      "Epoch 17/50\n",
      "320/320 [==============================] - 1s 3ms/step - loss: 0.0136 - acc: 0.9969 - val_loss: 0.2392 - val_acc: 0.9412\n",
      "Epoch 18/50\n",
      "320/320 [==============================] - 1s 3ms/step - loss: 0.0131 - acc: 0.9969 - val_loss: 0.2136 - val_acc: 0.9449\n",
      "Epoch 19/50\n",
      "320/320 [==============================] - 1s 3ms/step - loss: 0.0117 - acc: 0.9938 - val_loss: 0.2156 - val_acc: 0.9461\n",
      "Epoch 20/50\n",
      "320/320 [==============================] - 1s 3ms/step - loss: 0.0061 - acc: 1.0000 - val_loss: 0.2248 - val_acc: 0.9443\n",
      "Epoch 21/50\n",
      "320/320 [==============================] - 1s 3ms/step - loss: 0.0108 - acc: 0.9969 - val_loss: 0.2330 - val_acc: 0.9445\n",
      "Epoch 22/50\n",
      "320/320 [==============================] - 1s 3ms/step - loss: 0.0127 - acc: 0.9938 - val_loss: 0.2342 - val_acc: 0.9410\n",
      "Epoch 23/50\n",
      "320/320 [==============================] - 1s 3ms/step - loss: 0.0125 - acc: 0.9969 - val_loss: 0.2126 - val_acc: 0.9463\n",
      "Epoch 24/50\n",
      "320/320 [==============================] - 1s 3ms/step - loss: 0.0087 - acc: 0.9969 - val_loss: 0.2023 - val_acc: 0.9477\n",
      "Epoch 25/50\n",
      "320/320 [==============================] - 1s 3ms/step - loss: 0.0049 - acc: 1.0000 - val_loss: 0.2086 - val_acc: 0.9480\n",
      "Epoch 26/50\n",
      "320/320 [==============================] - 1s 3ms/step - loss: 0.0109 - acc: 0.9969 - val_loss: 0.2161 - val_acc: 0.9484\n",
      "Epoch 27/50\n",
      "320/320 [==============================] - 1s 3ms/step - loss: 0.0079 - acc: 1.0000 - val_loss: 0.2180 - val_acc: 0.9475\n",
      "Epoch 28/50\n",
      "320/320 [==============================] - 1s 3ms/step - loss: 0.0139 - acc: 0.9938 - val_loss: 0.2262 - val_acc: 0.9438\n",
      "Epoch 29/50\n",
      "320/320 [==============================] - 1s 3ms/step - loss: 0.0078 - acc: 1.0000 - val_loss: 0.2575 - val_acc: 0.9424\n",
      "Epoch 30/50\n",
      "320/320 [==============================] - 1s 3ms/step - loss: 0.0166 - acc: 0.9938 - val_loss: 0.2130 - val_acc: 0.9469\n",
      "Epoch 31/50\n",
      "320/320 [==============================] - 1s 3ms/step - loss: 0.0184 - acc: 0.9938 - val_loss: 0.2446 - val_acc: 0.9401\n",
      "Epoch 32/50\n",
      "320/320 [==============================] - 1s 3ms/step - loss: 0.0091 - acc: 0.9969 - val_loss: 0.2167 - val_acc: 0.9457\n",
      "Epoch 33/50\n",
      "320/320 [==============================] - 1s 3ms/step - loss: 0.0098 - acc: 1.0000 - val_loss: 0.2075 - val_acc: 0.9465\n",
      "Epoch 34/50\n",
      "320/320 [==============================] - 1s 3ms/step - loss: 0.0097 - acc: 1.0000 - val_loss: 0.2038 - val_acc: 0.9484\n",
      "Epoch 35/50\n",
      "320/320 [==============================] - 1s 3ms/step - loss: 0.0042 - acc: 1.0000 - val_loss: 0.2096 - val_acc: 0.9480\n",
      "Epoch 36/50\n",
      "320/320 [==============================] - 1s 3ms/step - loss: 0.0027 - acc: 1.0000 - val_loss: 0.2208 - val_acc: 0.9469\n",
      "Epoch 37/50\n",
      "320/320 [==============================] - 1s 3ms/step - loss: 0.0093 - acc: 0.9969 - val_loss: 0.2217 - val_acc: 0.9459\n",
      "Epoch 38/50\n",
      "320/320 [==============================] - 1s 3ms/step - loss: 0.0073 - acc: 0.9969 - val_loss: 0.2288 - val_acc: 0.9475\n",
      "Epoch 39/50\n",
      "320/320 [==============================] - 1s 3ms/step - loss: 0.0064 - acc: 1.0000 - val_loss: 0.2418 - val_acc: 0.9449\n",
      "Epoch 40/50\n",
      "320/320 [==============================] - 1s 3ms/step - loss: 0.0105 - acc: 0.9938 - val_loss: 0.2320 - val_acc: 0.9440\n",
      "Epoch 41/50\n",
      "320/320 [==============================] - 1s 3ms/step - loss: 0.0029 - acc: 1.0000 - val_loss: 0.2233 - val_acc: 0.9453\n",
      "Epoch 42/50\n",
      "320/320 [==============================] - 1s 4ms/step - loss: 0.0073 - acc: 0.9969 - val_loss: 0.2233 - val_acc: 0.9467\n",
      "Epoch 43/50\n",
      "320/320 [==============================] - 1s 3ms/step - loss: 0.0045 - acc: 1.0000 - val_loss: 0.2263 - val_acc: 0.9451\n",
      "Epoch 44/50\n",
      "320/320 [==============================] - 1s 3ms/step - loss: 0.0074 - acc: 0.9969 - val_loss: 0.2161 - val_acc: 0.9486\n",
      "Epoch 45/50\n",
      "320/320 [==============================] - 1s 3ms/step - loss: 0.0026 - acc: 1.0000 - val_loss: 0.2229 - val_acc: 0.9471\n",
      "Epoch 46/50\n",
      "320/320 [==============================] - 1s 3ms/step - loss: 0.0048 - acc: 1.0000 - val_loss: 0.2358 - val_acc: 0.9451\n",
      "Epoch 47/50\n",
      "320/320 [==============================] - 1s 3ms/step - loss: 0.0122 - acc: 0.9938 - val_loss: 0.2269 - val_acc: 0.9477\n",
      "Epoch 48/50\n",
      "320/320 [==============================] - 1s 3ms/step - loss: 0.0048 - acc: 0.9969 - val_loss: 0.2120 - val_acc: 0.9484\n",
      "Epoch 49/50\n",
      "320/320 [==============================] - 1s 3ms/step - loss: 0.0062 - acc: 1.0000 - val_loss: 0.2132 - val_acc: 0.9494\n",
      "Epoch 50/50\n",
      "320/320 [==============================] - 1s 3ms/step - loss: 0.0101 - acc: 0.9938 - val_loss: 0.2498 - val_acc: 0.9426\n",
      "Training time: 0:00:54.159158\n",
      "Test score: 0.24978319926194043\n",
      "Test accuracy: 0.9426044023863402\n"
     ]
    }
   ],
   "source": [
    "for k in feature_layers:\n",
    "    print(k.trainable)\n",
    "    k.trainable = False\n",
    "\n",
    "# train_model(model, train, test, nb_classes, nb_epoch=nb_epoch):\n",
    "train_model(model,(X_train_gte5_n50, y_train_gte5_n50),(X_test_gte5, y_test_gte5), nb_classes, nb_epoch=nb_epoch)"
   ]
  },
  {
   "cell_type": "code",
   "execution_count": 24,
   "metadata": {
    "collapsed": true
   },
   "outputs": [],
   "source": [
    "import json\n",
    "d = hist.history\n",
    "json.dump(d, open(\"text_5_9_A32_Freezing_layers.txt\",'w'))"
   ]
  },
  {
   "cell_type": "code",
   "execution_count": 25,
   "metadata": {
    "collapsed": true
   },
   "outputs": [],
   "source": [
    "import json\n",
    "with open('text_0_4_B32.txt') as json_data:\n",
    "    data_lte_4 = json.load(json_data)\n",
    "with open('text_5_9_A32.txt') as json_data:\n",
    "    data_gte_5_saved_weights = json.load(json_data)\n",
    "\n",
    "with open('text_5_9_A32_Freezing_layers.txt') as json_data:\n",
    "    data_gte_5_Freezed_feature_layers = json.load(json_data)"
   ]
  },
  {
   "cell_type": "code",
   "execution_count": 26,
   "metadata": {
    "collapsed": true
   },
   "outputs": [],
   "source": [
    "training_accuracy_lth_4    = data_lte_4['acc']\n",
    "validation_accuracy_lth_4  = data_lte_4['val_acc']\n",
    "\n",
    "training_loss_lth_4    = data_lte_4['loss']\n",
    "validation_loss_lth_4  = data_lte_4['val_loss']\n",
    "\n",
    "training_accuracy_gte_5_saved_weights    = data_gte_5_saved_weights['acc']\n",
    "validation_accuracy_gte_5_saved_weights  = data_gte_5_saved_weights['val_acc']\n",
    "\n",
    "training_loss_gte_5_saved_weights    = data_gte_5_saved_weights['loss']\n",
    "validation_loss_gte_5_saved_weights  = data_gte_5_saved_weights['val_loss']\n",
    "\n",
    "training_accuracy_gte_5_Freezed_feature_layers    =  data_gte_5_Freezed_feature_layers ['acc']\n",
    "validation_accuracy_gte_5_Freezed_feature_layers  =  data_gte_5_Freezed_feature_layers ['val_acc']\n",
    "\n",
    "training_loss_gte_5_Freezed_feature_layers    =  data_gte_5_Freezed_feature_layers ['loss']\n",
    "validation_loss_gte_5_Freezed_feature_layers  =  data_gte_5_Freezed_feature_layers ['val_loss']"
   ]
  },
  {
   "cell_type": "code",
   "execution_count": 27,
   "metadata": {
    "collapsed": true
   },
   "outputs": [],
   "source": [
    "%matplotlib inline"
   ]
  },
  {
   "cell_type": "code",
   "execution_count": 28,
   "metadata": {},
   "outputs": [
    {
     "data": {
      "text/plain": [
       "Text(0.5,1,'Loss 0-4 digits')"
      ]
     },
     "execution_count": 28,
     "metadata": {},
     "output_type": "execute_result"
    },
    {
     "data": {
      "image/png": "[encoded data removed]",
      "text/plain": [
       "<Figure size 1440x432 with 2 Axes>"
      ]
     },
     "metadata": {},
     "output_type": "display_data"
    }
   ],
   "source": [
    "fig, axes = plt.subplots(nrows=1, ncols=2,figsize=(20,6))\n",
    "\n",
    "axes[0].plot(training_accuracy_lth_4,'b')\n",
    "axes[0].plot(validation_accuracy_lth_4,'r')\n",
    "axes[0].legend(['training_acc', 'validation_acc'])\n",
    "axes[0].set_xlabel('No of Epoch')\n",
    "axes[0].set_ylabel('Accuracy')\n",
    "axes[0].set_title(\"Accuracy 0-4 digits\")\n",
    "\n",
    "axes[1].plot(training_loss_lth_4,'b')\n",
    "axes[1].plot(validation_loss_lth_4,'r')\n",
    "axes[1].legend(['training_loss', 'validation_loss'])\n",
    "axes[1].set_xlabel('No of Epoch')\n",
    "axes[1].set_ylabel('Loss')\n",
    "axes[1].set_title(\"Loss 0-4 digits\")"
   ]
  },
  {
   "cell_type": "code",
   "execution_count": 29,
   "metadata": {},
   "outputs": [
    {
     "data": {
      "text/plain": [
       "Text(0.5,1,'Loss 5-9 digits using saved weight')"
      ]
     },
     "execution_count": 29,
     "metadata": {},
     "output_type": "execute_result"
    },
    {
     "data": {
      "image/png": "[encoded data removed]",
      "text/plain": [
       "<Figure size 1440x432 with 2 Axes>"
      ]
     },
     "metadata": {},
     "output_type": "display_data"
    }
   ],
   "source": [
    "fig, axes = plt.subplots(nrows=1, ncols=2,figsize=(20,6))\n",
    "\n",
    "axes[0].plot(training_accuracy_gte_5_saved_weights,'b')\n",
    "axes[0].plot(validation_accuracy_gte_5_saved_weights,'r')\n",
    "axes[0].legend(['training_acc', 'validation_acc'])\n",
    "axes[0].set_xlabel('No of Epoch')\n",
    "axes[0].set_ylabel('Accuracy')\n",
    "axes[0].set_title(\"Accuracy 5-9 digits using saved weight\")\n",
    "\n",
    "axes[1].plot(training_loss_gte_5_saved_weights,'b')\n",
    "axes[1].plot(validation_loss_gte_5_saved_weights,'r')\n",
    "axes[1].legend(['training_loss', 'validation_loss'])\n",
    "axes[1].set_xlabel('No of Epoch')\n",
    "axes[1].set_ylabel('Loss')\n",
    "axes[1].set_title(\"Loss 5-9 digits using saved weight\")"
   ]
  },
  {
   "cell_type": "code",
   "execution_count": 30,
   "metadata": {},
   "outputs": [
    {
     "data": {
      "text/plain": [
       "Text(0.5,1,' Loss 5-9 digits using freezed feature layers')"
      ]
     },
     "execution_count": 30,
     "metadata": {},
     "output_type": "execute_result"
    },
    {
     "data": {
      "image/png": "[encoded data removed]",
      "text/plain": [
       "<Figure size 1440x432 with 2 Axes>"
      ]
     },
     "metadata": {},
     "output_type": "display_data"
    }
   ],
   "source": [
    "fig, axes = plt.subplots(nrows=1, ncols=2,figsize=(20,6))\n",
    "\n",
    "axes[0].plot(training_accuracy_gte_5_Freezed_feature_layers,'b')\n",
    "axes[0].plot(validation_accuracy_gte_5_Freezed_feature_layers,'r')\n",
    "axes[0].legend(['training_acc', 'validation_acc'])\n",
    "axes[0].set_xlabel('No of Epoch')\n",
    "axes[0].set_ylabel('Accuracy')\n",
    "axes[0].set_title(\"Accuracy 5-9 digits using freezed feature layers\")\n",
    "\n",
    "axes[1].plot(training_loss_gte_5_Freezed_feature_layers,'b')\n",
    "axes[1].plot(validation_loss_gte_5_Freezed_feature_layers,'r')\n",
    "axes[1].legend(['training_loss', 'validation_loss'])\n",
    "axes[1].set_xlabel('No of Epoch')\n",
    "axes[1].set_ylabel('Loss')\n",
    "axes[1].set_title(\" Loss 5-9 digits using freezed feature layers\")"
   ]
  },
  {
   "cell_type": "code",
   "execution_count": 31,
   "metadata": {},
   "outputs": [
    {
     "name": "stdout",
     "output_type": "stream",
     "text": [
      "Accuracy on Digits [0-4] 0.9988887436266178\n",
      "Accuracy on Digits [5-9] 1.0\n",
      "Accuracy on Digits [5-9] 0.99375\n"
     ]
    }
   ],
   "source": [
    "print('Accuracy on Digits [0-4]',training_accuracy_lth_4[-1])\n",
    "print('Accuracy on Digits [5-9]',training_accuracy_gte_5_saved_weights[-1])\n",
    "print('Accuracy on Digits [5-9]',training_accuracy_gte_5_Freezed_feature_layers[-1])"
   ]
  },
  {
   "cell_type": "code",
   "execution_count": 32,
   "metadata": {},
   "outputs": [
    {
     "name": "stdout",
     "output_type": "stream",
     "text": [
      "Accuracy on Digits [0-4] 0.9988324576765908\n",
      "Accuracy on Digits [5-9] 0.9403414935198519\n",
      "Accuracy on Digits [5-9] 0.9426044023863402\n"
     ]
    }
   ],
   "source": [
    "print('Accuracy on Digits [0-4]',validation_accuracy_lth_4[-1])\n",
    "print('Accuracy on Digits [5-9]',validation_accuracy_gte_5_saved_weights[-1])\n",
    "print('Accuracy on Digits [5-9]',validation_accuracy_gte_5_Freezed_feature_layers[-1])"
   ]
  }
 ],
 "metadata": {
  "kernelspec": {
   "display_name": "Python 3",
   "language": "python",
   "name": "python3"
  },
  "language_info": {
   "codemirror_mode": {
    "name": "ipython",
    "version": 3
   },
   "file_extension": ".py",
   "mimetype": "text/x-python",
   "name": "python",
   "nbconvert_exporter": "python",
   "pygments_lexer": "ipython3",
   "version": "3.6.5"
  },
  "nav_menu": {},
  "toc": {
   "navigate_menu": true,
   "number_sections": true,
   "sideBar": true,
   "threshold": 6,
   "toc_cell": false,
   "toc_section_display": "block",
   "toc_window_display": false
  }
 },
 "nbformat": 4,
 "nbformat_minor": 2
}
